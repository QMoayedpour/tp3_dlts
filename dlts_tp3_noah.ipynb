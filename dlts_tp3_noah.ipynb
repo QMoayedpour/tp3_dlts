{
 "cells": [
  {
   "cell_type": "code",
   "execution_count": 1,
   "id": "c235e40c",
   "metadata": {
    "id": "c235e40c"
   },
   "outputs": [],
   "source": [
    "import numpy as np\n",
    "import torch\n",
    "import h5py # pour gérer les formats de données utilisés ici\n",
    "from collections import Counter\n",
    "import matplotlib.pyplot as plt\n",
    "from tqdm import tqdm, trange\n",
    "from sklearn.metrics import classification_report"
   ]
  },
  {
   "cell_type": "markdown",
   "id": "50aa84c0",
   "metadata": {
    "id": "50aa84c0"
   },
   "source": [
    "# TP3: Reconnaissance de signaux de communication par apprentissage profond\n",
    "\n",
    "<div class=consignes> Listez les noms des étudiants (2 au maximum) ayant participé à ce notebook dans la cellule suivante (prénom, nom).<br/>\n",
    "Au moment du rendu, le notebook doit être nommé nom1_nom2_dlts_tp3.ipynb\n",
    "\n",
    "2 séances de TP sur ce sujet : le 6 novembre (1h00), le 13 novembre (3h).\n",
    "Le cours du 19 novembre sera partagé en 3 : cours sur la séparation de sources audio / présentation des mini projets et organisation des soutenances / fin de ce TP.<br>\n",
    "Deadline pour le rendu du TP: 26 novembre 2024, 13h59, par mail à deepetsignal.mva@gmail.com <br>\n",
    "\n",
    "Pour installer les paquets nécessaires à la réalisation de ce TP vous pouvez utiliser dans le notebook\n",
    "    \n",
    "```\n",
    "!pip install \\< nom_du_paquet \\>\n",
    "```\n",
    "merci de regrouper toutes les installations dans la première cellule du notebook.\n",
    "Essayez de faire en sorte que votre notebook puisse se lire comme un compte rendu, évitez de laisser du code mort et prennez le temps de commenter vos observations et résultats."
   ]
  },
  {
   "cell_type": "markdown",
   "id": "2747407a",
   "metadata": {
    "id": "2747407a"
   },
   "source": [
    "## Problématique\n",
    "\n",
    "On cherche à identifier un type d'émetteur de communication à partir de l'observation d'un signal provenant de l'émetteur\n",
    "de 2048 échantillons IQ (In Phase / Quadrature) ie le signal prend des valeurs complexes. On représente la partie\n",
    "réelle et la partie imaginaire du signal par deux canaux réel d'un signal multivarié.\n",
    "\n",
    "L'émetteur peut provenir de 6 catégories différentes.\n",
    "Les paramètres différenciant les différentes catégories sont\n",
    "- le type de modulation\n",
    "- la présence ou non de séquences pilotes et le cas échéant la structure de trame pilotes / données\n",
    "- le débit de la transmission\n",
    "\n",
    "Les signaux se propagent en champs libre et sont enregistrés par une antenne. Le signal reçu est transposé en bande de base c'est à dire que si le signal est transmis autour d'une fréquence centrale f0, une première étape de traitement du signal à la réception recentre le signal autour de la fréquence 0.\n",
    "\n",
    "\n",
    "Les différents signaux observés dans ce TP sont entachés de différentes erreurs caractéristiques de la propagation\n",
    "électromagnétique comme :\n",
    "- modification aléatoire de la phase du signal lors de la transmission\n",
    "- imperfection de la transposition en bande de base qui laisse le signal transposé à une fréquence df0 << f0\n",
    "- présence d'interférence entre les symboles transmis (dûes par exemple à plusieurs chemins de propagation)\n",
    "- présence d'un bruit blanc additif gaussien\n",
    "\n",
    "Le niveau du bruit relativement à celui du signal utile est décrit par le SNR (Signal to Noise Ratio) et exprimé en dB. On suppose que le SNR est connu lors de l'acquisition d'un signal. Lors de ce TP nous rencontrerons 4 niveaux de SNR: 30 dB (facile), 20 dB, 10 dB et 0 dB (en espérant qu'on puisse faire quelque chose de ces données).\n",
    "Un de nos objectifs sera de qualifier la performance des algorithmes mis en place en fonction du SNR.\n",
    "\n",
    "Les objectifs de ce TP sont:\n",
    "\n",
    "1. Définir une ou plusieurs architectures de réseaux de neurones profonds et les implémenter en PyTorch\n",
    "2. Entrainer ces architectures, la fonction de perte employée pourra être la log vraisemblance négative: https://pytorch.org/docs/stable/generated/torch.nn.NLLLoss.html.\n",
    "3. Qualifier les performances de votre réseau de neurones sur l'ensemble de test via:\n",
    "   - Le calcul de l'accuracy implémentée par exemple dans le package TorchMetrics (https://torchmetrics.readthedocs.io/en/stable/classification/accuracy.html)\n",
    "   - La réalisation d'un graphique accuracy vs SNR\n",
    "   - La réalisation des matrices de confusion entre les différentes classes pour les différents SNR (https://scikit-learn.org/stable/modules/generated/sklearn.metrics.confusion_matrix.html#sklearn.metrics.confusion_matrix)\n",
    "4. Rapporter les performances de vos architectures à leur complexité, la complexité d'un réseau de neurones étant ici résumé au nombre de paramètres libres qu'il fait intervenir\n",
    "\n",
    "Durant l'entraînement on observera l'évolution de la fonction de perte et de l'accuracy sur l'ensemble d'entraînement et sur l'ensemble de validation.\n",
    "\n",
    "\n",
    "Les 4 premières parties sont un échauffement sur lequel vous pouvez passer vite si vous êtes à l'aise avec le sujet.\n",
    "Le gros du travail est dans la partie 5 \"Entraînemenent d'un réseau de neurones\".\n",
    "\n",
    "Surtout privilégiez dans un premier temps la simplicité quitte à complexifier votre approche ensuite pour doper ses performances. Ne restez pas bloqué sur des réseaux qui \"mettent trop de temps à apprendre\""
   ]
  },
  {
   "cell_type": "markdown",
   "id": "bf4865e6",
   "metadata": {
    "id": "bf4865e6"
   },
   "source": [
    "## Chargement des données en numpy\n",
    "\n",
    "Le TP est composé de trois jeux de données :\n",
    "- train.hdf5 destiné à nourrir l'entrainement de réseaux de neurones\n",
    "- test.hdf5 destiné à évaluer les algorithmes après entrainement\n",
    "- samples.hdf5 qui est beaucoup plus petit que train.hdf5 et destiné à servir de modèle de données dans une phase de prototypage\n",
    "des algorithmes et de la pipeline d'entrainement\n",
    "\n",
    "Les trois jeux de données sont au format hdf5 qui peut être manipulé via l'API Python h5py https://docs.h5py.org/en/stable/quick.html.\n",
    "Un fichier hdf5 est consitué d'une arborescence de datasets et de groups. Un dataset hdf5 représente un tenseur n dimensionnel. Un dataset se convertit très facilement en numpy array.\n",
    "\n",
    "Par exemple vous pouvez charger les données samples selon la cellule suivante:"
   ]
  },
  {
   "cell_type": "code",
   "execution_count": null,
   "id": "803ab62b",
   "metadata": {
    "id": "803ab62b"
   },
   "outputs": [],
   "source": [
    "data_path = 'samples.hdf5'\n",
    "data = h5py.File(data_path , 'r')\n",
    "\n",
    "signals = np.array(data['signaux'])\n",
    "snr =  np.array(data['snr'])\n",
    "labels_id = np.array(data['labels'])\n",
    "\n",
    "data.close()"
   ]
  },
  {
   "cell_type": "markdown",
   "id": "66630a9e",
   "metadata": {
    "id": "66630a9e"
   },
   "source": [
    "Vous pouvez récupérer le nom de la correspondance entre un label et le nom du standard d'émetteur correspondant via:"
   ]
  },
  {
   "cell_type": "code",
   "execution_count": 3,
   "id": "ecab0efe",
   "metadata": {
    "id": "ecab0efe"
   },
   "outputs": [],
   "source": [
    "def get_labels(open_h5_file):\n",
    "    return {\n",
    "        open_h5_file['label_name'].attrs[k] : k\n",
    "        for k in open_h5_file['label_name'].attrs.keys()\n",
    "    }"
   ]
  },
  {
   "cell_type": "markdown",
   "id": "3c61acbe",
   "metadata": {
    "id": "3c61acbe"
   },
   "source": [
    "### Visualisation des données\n",
    "\n",
    "Commencez par étudier les données:\n",
    "\n",
    "    - observez leur taille\n",
    "    - la distribution des différentes classes et des différents SNR dans l'ensemble d'entrainement\n",
    "    - visualisez quelques signaux bien choisis selon une ou des représentations que vous choisirez\n",
    "\n",
    "Remarque : dans ce TP il n'y a pas beaucoup à gagner à faire du feature engineering"
   ]
  },
  {
   "cell_type": "code",
   "execution_count": 6,
   "id": "5f0a2f83",
   "metadata": {
    "colab": {
     "base_uri": "https://localhost:8080/",
     "height": 499
    },
    "id": "5f0a2f83",
    "outputId": "dc8b991c-f110-4a3a-dbca-1e9012473a89"
   },
   "outputs": [
    {
     "name": "stdout",
     "output_type": "stream",
     "text": [
      "200\n",
      "Counter({1: 36, 2: 35, 4: 34, 0: 34, 3: 32, 5: 29})\n",
      "Counter({10: 80, 30: 60, 20: 40, 0: 20})\n",
      "2\n"
     ]
    },
    {
     "data": {
      "image/png": "[encoded data removed]",
      "text/plain": [
       "<Figure size 640x480 with 1 Axes>"
      ]
     },
     "metadata": {},
     "output_type": "display_data"
    }
   ],
   "source": [
    "print(len(signals))\n",
    "print(Counter(labels_id))\n",
    "print(Counter(snr))\n",
    "\n",
    "print(labels_id[0])\n",
    "plt.plot(signals[0])\n",
    "plt.show()"
   ]
  },
  {
   "cell_type": "markdown",
   "id": "ff9fa901",
   "metadata": {
    "id": "ff9fa901"
   },
   "source": [
    "## Chargement des données en Pytorch\n",
    "\n",
    "Pour entrainer des réseaux de neurones profond sur nos données nous allons utiliser le framework Pytorch.\n",
    "Une première étape va consister à transférer les données de numpy à PyTorch, cela passe par deux objets :\n",
    "    - un Dataset qui modélise le dataset à haut niveau dans la mémoire de l'ordinateur\n",
    "    - un Dataloader qui permet d'échantillonner le Dataset Pytorch dans les itérations de l'optimisation du réseau de neurones\n",
    "    \n",
    "Un dataset prend la forme\n",
    "```python\n",
    "class MyDataset(torch.utils.data.Dataset):\n",
    "    \n",
    "    def __init__(self, path_to_data):\n",
    "        ...\n",
    "    def __len__(self): #retourne le nombre de données dans le dataset\n",
    "        ...\n",
    "    def __getitem__(self,i): #retourne pour chaque indice i un couple (data_i, lablel_i), data_i étant un signal et label_i le label associé au signal\n",
    "        ...\n",
    "```\n",
    "\n",
    "Implémentez une classe Dataset pour le dataset considéré ici"
   ]
  },
  {
   "cell_type": "code",
   "execution_count": 7,
   "id": "ca066981",
   "metadata": {
    "colab": {
     "base_uri": "https://localhost:8080/"
    },
    "id": "ca066981",
    "outputId": "4c9b8b5b-5325-4dd4-9d90-f4510fc1a9b0"
   },
   "outputs": [
    {
     "name": "stdout",
     "output_type": "stream",
     "text": [
      "[[-0.7017382  -0.5344975 ]\n",
      " [-0.26651698 -0.6630565 ]\n",
      " [ 0.48746282 -0.5816639 ]\n",
      " ...\n",
      " [-0.4726788   0.73971874]\n",
      " [-1.5107473  -0.21903755]\n",
      " [-0.27641958 -0.14843093]]\n",
      "(2048, 2)\n"
     ]
    }
   ],
   "source": [
    "print((signals[1]))\n",
    "print(signals[1].shape)"
   ]
  },
  {
   "cell_type": "code",
   "execution_count": 4,
   "id": "53406fbc",
   "metadata": {
    "id": "53406fbc"
   },
   "outputs": [],
   "source": [
    "class MyDataset(torch.utils.data.Dataset):\n",
    "    def __init__(self, path_to_data):\n",
    "        data = h5py.File(path_to_data , 'r')\n",
    "        self.signals = np.array(data['signaux']).transpose(0,2,1)\n",
    "        self.snr =  np.array(data['snr'])\n",
    "        self.labels_id = np.array(data['labels'])\n",
    "        self.labels_names = get_labels(data)\n",
    "        data.close()\n",
    "\n",
    "    def __len__(self):\n",
    "        return self.signals.shape[0]\n",
    "\n",
    "    def __getitem__(self, i):\n",
    "        return self.signals[i], self.labels_id[i]"
   ]
  },
  {
   "cell_type": "markdown",
   "id": "69069805",
   "metadata": {
    "id": "69069805"
   },
   "source": [
    "Instanciez un objet dataset et testez le sur les données samples\n",
    "```python\n",
    "dataset = MyDataset(...)\n",
    "```"
   ]
  },
  {
   "cell_type": "code",
   "execution_count": 5,
   "id": "144c1e7e",
   "metadata": {
    "colab": {
     "base_uri": "https://localhost:8080/"
    },
    "id": "144c1e7e",
    "outputId": "e8a92202-2900-4ea2-eb45-27ee6088c9d7"
   },
   "outputs": [
    {
     "name": "stdout",
     "output_type": "stream",
     "text": [
      "Signal shape: (2, 2048)\n",
      "Signal type: <class 'numpy.ndarray'>\n",
      "Label: 2\n",
      "Label type: <class 'numpy.int8'>\n"
     ]
    }
   ],
   "source": [
    "data_path = 'samples.hdf5'\n",
    "dataset = MyDataset(data_path)\n",
    "\n",
    "sample_signal, sample_label = dataset[0]\n",
    "print(\"Signal shape:\", sample_signal.shape)\n",
    "print(\"Signal type:\", type(sample_signal))\n",
    "print(\"Label:\", sample_label)\n",
    "print(\"Label type:\", type(sample_label))"
   ]
  },
  {
   "cell_type": "markdown",
   "id": "9c6532b5",
   "metadata": {
    "id": "9c6532b5"
   },
   "source": [
    "Pytorch propose une classe Dataloader qui permet d'échantillonner des batchs de taille fixe à partir d'un dataset.\n",
    "La cellule suivante donne un exemple d'utilisation"
   ]
  },
  {
   "cell_type": "code",
   "execution_count": 6,
   "id": "3044a289",
   "metadata": {
    "id": "3044a289"
   },
   "outputs": [],
   "source": [
    "from torch.utils.data import DataLoader\n",
    "\n",
    "dataloader = DataLoader(dataset,\n",
    "                        batch_size=10,\n",
    "                        shuffle=True\n",
    "                       )"
   ]
  },
  {
   "cell_type": "markdown",
   "id": "037f1b6e",
   "metadata": {
    "id": "037f1b6e"
   },
   "source": [
    "Testez le dataloader pour différentes valeurs de batch_size"
   ]
  },
  {
   "cell_type": "code",
   "execution_count": 7,
   "id": "965210fa",
   "metadata": {
    "colab": {
     "base_uri": "https://localhost:8080/"
    },
    "id": "965210fa",
    "outputId": "522ebd82-f792-40c9-f189-065ca52581c9"
   },
   "outputs": [
    {
     "name": "stdout",
     "output_type": "stream",
     "text": [
      "torch.Size([10, 2, 2048]) torch.Size([10])\n"
     ]
    }
   ],
   "source": [
    "for sig, lab in dataloader:\n",
    "    print(sig.shape, lab.shape)\n",
    "    break"
   ]
  },
  {
   "cell_type": "markdown",
   "id": "fb7a7c17",
   "metadata": {
    "id": "fb7a7c17"
   },
   "source": [
    "## Mise en place d'un réseau \"dumb\" pour tester la pipeline d'entrainement\n",
    "\n",
    "Définissez un premier modèle Pytorch qui prend en entrée un batch de données (tenseur de dimensions [B , C, T] avec B la taille du batch, C le nombre de canaux des signaux et T le nombre d'échantillons dans les signaux) et renvoie un batch de vecteur de probabilités (ou de log probabilités si vous préférez) (tenseur de dimensions [B,N] où N est le nombre de classe à identifier).\n",
    "\n",
    "Ce modèle doit comporter moins de 10000 paramètres libres.\n",
    "\n",
    "Ce Modèle doit être très simple, il doit être rapide à exécuter, il servira à tester et éventuellement débugger la pipeline d'entrainement que vous mettrez en place un peu plus loin. Un template d'implémentation d'une classe Model se trouve dans les diapositives du cours."
   ]
  },
  {
   "cell_type": "code",
   "execution_count": 8,
   "id": "8710cd3f",
   "metadata": {
    "id": "8710cd3f"
   },
   "outputs": [],
   "source": [
    "import torch.nn as nn\n",
    "import torch.nn.functional as F\n",
    "\n",
    "class DumbModel(nn.Module):\n",
    "    def __init__(self, N=6, C=2, T=2048):\n",
    "        super().__init__()\n",
    "        self.conv1 = torch.nn.Conv1d(in_channels=C, out_channels=8, kernel_size=3, stride=1, padding=1)\n",
    "        self.pool = torch.nn.MaxPool1d(kernel_size=2)\n",
    "        self.fc = torch.nn.Linear(8*(T//2), N)\n",
    "\n",
    "    def forward(self, x):\n",
    "        x = F.relu(self.conv1(x))  # (B, 16, T)\n",
    "        x = self.pool(x) # (B, 8, 1)\n",
    "        x = x.view(x.size(0), -1) # (B, 8)\n",
    "        x = self.fc(x)\n",
    "        return F.log_softmax(x, dim=-1)"
   ]
  },
  {
   "cell_type": "markdown",
   "id": "f8767db4",
   "metadata": {
    "id": "f8767db4"
   },
   "source": [
    "Instanciez votre modèle et testez la consistence de ses entrées / sorties vis à vis des données étudiées (test purement fonctionnel, pas besoin de chercher à réaliser un entraînement à ce point)."
   ]
  },
  {
   "cell_type": "code",
   "execution_count": 9,
   "id": "48d3766f",
   "metadata": {
    "colab": {
     "base_uri": "https://localhost:8080/"
    },
    "id": "48d3766f",
    "outputId": "1d8e73ec-ea0c-49f3-feb8-296432aac66d"
   },
   "outputs": [
    {
     "name": "stdout",
     "output_type": "stream",
     "text": [
      "Forme de l'entrée : torch.Size([8, 2, 2048])\n",
      "Forme de la sortie : torch.Size([8, 6])\n",
      "tensor([[-1.9254, -1.6764, -1.7749, -2.1240, -1.7422, -1.5948],\n",
      "        [-1.8425, -1.8026, -1.8151, -2.2037, -1.4258, -1.8130],\n",
      "        [-1.7364, -1.8959, -1.7174, -2.3006, -1.4804, -1.7934],\n",
      "        [-1.8525, -1.7092, -1.6243, -2.0517, -1.7628, -1.8017],\n",
      "        [-1.9482, -1.9714, -2.2586, -1.6770, -1.6151, -1.4788],\n",
      "        [-1.7644, -2.1264, -1.7886, -1.8689, -1.6818, -1.6000],\n",
      "        [-1.7857, -2.1200, -1.5863, -2.1825, -1.6164, -1.6284],\n",
      "        [-1.8169, -2.0370, -1.6464, -2.3878, -1.4415, -1.6826]],\n",
      "       grad_fn=<LogSoftmaxBackward0>)\n"
     ]
    }
   ],
   "source": [
    "model = DumbModel()\n",
    "B = 8\n",
    "C = 2\n",
    "T = 2048\n",
    "\n",
    "input_data = torch.randn(B, C, T)  # (8, 2, 2048)\n",
    "output = model(input_data)\n",
    "\n",
    "print(\"Forme de l'entrée :\", input_data.shape)\n",
    "print(\"Forme de la sortie :\", output.shape)\n",
    "print(output)"
   ]
  },
  {
   "cell_type": "markdown",
   "id": "ff87ed9a-d73f-4b7d-8dec-3d8926265afb",
   "metadata": {
    "id": "ff87ed9a-d73f-4b7d-8dec-3d8926265afb"
   },
   "source": [
    "Estimez par un calcul \"théorique\" le nombre de paramètres du modèle que vous avez défini et vérifié que le modèle a bien ce nombre de paramètres en pratique par exemple en utilisant la fonction suivante :"
   ]
  },
  {
   "cell_type": "code",
   "execution_count": 10,
   "id": "dbaa3620-0884-4dee-83c4-241057c9fe63",
   "metadata": {
    "colab": {
     "base_uri": "https://localhost:8080/"
    },
    "id": "dbaa3620-0884-4dee-83c4-241057c9fe63",
    "outputId": "9b87d02e-719b-4ed2-8dca-32f786c72b7d"
   },
   "outputs": [
    {
     "name": "stdout",
     "output_type": "stream",
     "text": [
      "49214\n"
     ]
    }
   ],
   "source": [
    "def count_n_param(model):\n",
    "    return sum([p.numel() for p in model.parameters()])\n",
    "\n",
    "print(count_n_param(model))"
   ]
  },
  {
   "cell_type": "markdown",
   "id": "617dcb82",
   "metadata": {
    "id": "617dcb82"
   },
   "source": [
    "## Mise en place de la pipeline d'entraînement\n",
    "\n",
    "La pipeline d'entrainement consiste à\n",
    "- charger les données\n",
    "- les batcher\n",
    "- réaliser des itération (epochs) de descente de gradient pour optimiser les paramètres d'un algorithme selon une fonction de perte (loss)\n",
    "- logger l'évolution au fil des epochs  de la loss sur l'ensemble train et l'ensemble de validation et éventuellement de métriques complémentaires\n",
    "\n",
    "Un cavnevas d'implémentation pourrait être:\n",
    "\n",
    "```python\n",
    "device = 'cpu' # set so 'cuda:xx' if you have a GPU, xx is GPU index. L'entraînement des réseaux de neurones est grandement accéléré par l'utilisation d'un GPU\n",
    "\n",
    "model = ...  # vous instanciez ici votre modèle\n",
    "\n",
    "loss = .... # définissez la fonction de perte selon laquelle le modèle sera optimisé\n",
    "\n",
    "optimizer = torch.optim.Adam(model.parameters()) # en pratique on utilise pas une simple descente de gradient mais une procédure d'optimisation plus sophistiquée qui est implémentée sous la forme d'un objet Optimizer. Il en existe beaucoup d'optimizers différents, vous pouvez en tester différents, je vous propose d'utiliser en premier lieu l'algorithme Adam\n",
    "\n",
    "n_epochs = ... # le nombre d'itérations dans l'entrainement\n",
    "\n",
    "chemin_vers_sauvegarde_model = # chemin vers un fichier où vous sauvegarderez votre modèle après optimisation pour le réutiliser plus tard.\n",
    "\n",
    "model.to(device) # on place le modèle dans le GPU si nécessaire\n",
    "\n",
    "for epoch in range(n_epochs):\n",
    "    \n",
    "    for batch_x,batch_y in dataloader_train:\n",
    "        \n",
    "        batch_x.to(device)\n",
    "        batch_y.to(device)\n",
    "        \n",
    "        optimizer.zero_grad()\n",
    "        \n",
    "        batch_y_predicted = model(batch_x)\n",
    "        \n",
    "        l = loss(batch_y_predicted, batch_y)\n",
    "        # loggez la loss sur le batch d'entraînement\n",
    "        \n",
    "        l.backward()\n",
    "        \n",
    "        optimizer.step()\n",
    "        \n",
    "    for batch_x,batch_y in dataloader_valid:\n",
    "        \n",
    "        batch_x.to(device)\n",
    "        batch_y.to(device)\n",
    "        \n",
    "        with torch.no_grad():\n",
    "            batch_y_predicted = model(batch_x)  \n",
    "            \n",
    "        # loggez la loss et les métriques sur le batch de validation\n",
    "\n",
    "torch.save(model, chemin_vers_sauvegarde_model)\n",
    "\n",
    "```"
   ]
  },
  {
   "cell_type": "markdown",
   "id": "39c67127",
   "metadata": {
    "id": "39c67127"
   },
   "source": [
    "Mettez en place votre pipeline et testez là sur votre modèle dumb. Faites en sorte que votre façon de logger les loss et les métriques vous permette de visualiser l'évolution de ces différents indicateurs sur l'ensemble d'entrainement et de validation au fil des epochs."
   ]
  },
  {
   "cell_type": "code",
   "execution_count": 11,
   "id": "f0f75ddb",
   "metadata": {
    "id": "f0f75ddb"
   },
   "outputs": [],
   "source": [
    "train_dataset = MyDataset('train.hdf5')\n",
    "dataloader_train = DataLoader(train_dataset,\n",
    "                        batch_size=20,\n",
    "                        shuffle=True\n",
    "                       )\n",
    "\n",
    "valid_dataset = MyDataset('validation.hdf5')\n",
    "dataloader_valid = DataLoader(valid_dataset,\n",
    "                                batch_size=10,\n",
    "                                shuffle=False\n",
    "                                 )\n",
    "\n",
    "test_dataset = MyDataset('test.hdf5')\n",
    "dataloader_test = DataLoader(test_dataset,\n",
    "                                batch_size=10,\n",
    "                                shuffle=False\n",
    "                                 )"
   ]
  },
  {
   "cell_type": "code",
   "execution_count": 12,
   "id": "2d499436",
   "metadata": {
    "id": "2d499436"
   },
   "outputs": [],
   "source": [
    "import torch\n",
    "import torch.nn as nn\n",
    "import torch.optim as optim\n",
    "from tqdm import tqdm\n",
    "import matplotlib.pyplot as plt\n",
    "\n",
    "def training_model(model, dataloader_train, dataloader_valid, save_path, n_epoch=15, device='cuda', loss=nn.NLLLoss(), optim=optim.Adam(model.parameters(), lr=0.001)):\n",
    "    optimizer = optim\n",
    "    train_losses = []\n",
    "    valid_losses = []\n",
    "    model.to(device)\n",
    "\n",
    "    for epoch in range(1, n_epoch+1):\n",
    "        epoch_loss = 0\n",
    "        model.train()\n",
    "\n",
    "        with tqdm(dataloader_train, desc=f\"Epoch {epoch}/{n_epoch}\", leave=True) as batch_bar:\n",
    "            for signals, labels in batch_bar:\n",
    "                signals, labels = signals.to(device), labels.to(device).long()\n",
    "\n",
    "                optimizer.zero_grad()\n",
    "\n",
    "                outputs = model(signals)\n",
    "                l = loss(outputs, labels)\n",
    "                l.backward()\n",
    "\n",
    "                optimizer.step()\n",
    "                epoch_loss += l.item()\n",
    "\n",
    "                batch_bar.set_postfix(loss=l.item())\n",
    "\n",
    "        train_losses.append(epoch_loss / len(dataloader_train))\n",
    "\n",
    "        model.eval()\n",
    "        valid_loss = 0\n",
    "        for batch_x, batch_y in dataloader_valid:\n",
    "            batch_x, batch_y = batch_x.to(device), batch_y.to(device).long()\n",
    "\n",
    "            with torch.no_grad():\n",
    "                batch_y_predicted = model(batch_x)\n",
    "                l = loss(batch_y_predicted, batch_y)\n",
    "                valid_loss += l.item()\n",
    "\n",
    "        valid_losses.append(valid_loss / len(dataloader_valid))\n",
    "\n",
    "    plt.plot(range(1, n_epoch+1), train_losses, label='train')\n",
    "    plt.plot(range(1, n_epoch+1), valid_losses, label='valid')\n",
    "    plt.legend()\n",
    "    plt.xlabel(\"Épochs\")\n",
    "    plt.ylabel(\"Loss\")\n",
    "    plt.show()\n",
    "\n",
    "    torch.save(model, save_path)\n"
   ]
  },
  {
   "cell_type": "code",
   "execution_count": 33,
   "id": "6d8ffa16",
   "metadata": {
    "colab": {
     "base_uri": "https://localhost:8080/",
     "height": 711
    },
    "id": "6d8ffa16",
    "outputId": "242d2a9e-da63-46ee-d66f-8229dfb2f566"
   },
   "outputs": [
    {
     "name": "stderr",
     "output_type": "stream",
     "text": [
      "Epoch 1/15: 100%|██████████| 1500/1500 [00:08<00:00, 184.91it/s, loss=1.54]\n",
      "Epoch 2/15: 100%|██████████| 1500/1500 [00:07<00:00, 200.70it/s, loss=1.2]\n",
      "Epoch 3/15: 100%|██████████| 1500/1500 [00:08<00:00, 179.86it/s, loss=1.15]\n",
      "Epoch 4/15: 100%|██████████| 1500/1500 [00:07<00:00, 198.22it/s, loss=0.768]\n",
      "Epoch 5/15: 100%|██████████| 1500/1500 [00:08<00:00, 186.83it/s, loss=1.1]\n",
      "Epoch 6/15: 100%|██████████| 1500/1500 [00:08<00:00, 169.36it/s, loss=0.997]\n",
      "Epoch 7/15: 100%|██████████| 1500/1500 [00:07<00:00, 202.71it/s, loss=0.968]\n",
      "Epoch 8/15: 100%|██████████| 1500/1500 [00:08<00:00, 183.13it/s, loss=0.729]\n",
      "Epoch 9/15: 100%|██████████| 1500/1500 [00:07<00:00, 198.22it/s, loss=0.609]\n",
      "Epoch 10/15: 100%|██████████| 1500/1500 [00:08<00:00, 182.08it/s, loss=0.789]\n",
      "Epoch 11/15: 100%|██████████| 1500/1500 [00:07<00:00, 195.66it/s, loss=0.662]\n",
      "Epoch 12/15: 100%|██████████| 1500/1500 [00:07<00:00, 187.55it/s, loss=0.522]\n",
      "Epoch 13/15: 100%|██████████| 1500/1500 [00:08<00:00, 187.12it/s, loss=0.297]\n",
      "Epoch 14/15: 100%|██████████| 1500/1500 [00:07<00:00, 197.93it/s, loss=0.349]\n",
      "Epoch 15/15: 100%|██████████| 1500/1500 [00:08<00:00, 179.51it/s, loss=0.647]\n"
     ]
    },
    {
     "data": {
      "image/png": "[encoded data removed]",
      "text/plain": [
       "<Figure size 640x480 with 1 Axes>"
      ]
     },
     "metadata": {},
     "output_type": "display_data"
    }
   ],
   "source": [
    "training_model(model, dataloader_train, dataloader_valid, \"model1.pth\", device='cuda')"
   ]
  },
  {
   "cell_type": "markdown",
   "id": "4994ac40",
   "metadata": {
    "id": "4994ac40"
   },
   "source": [
    "Vérifiez que vous avez bien enregistré votre modèle en fin d'entrainement. Chargez le avec la fonction\n",
    "```python\n",
    "modele = torch.load(...)\n",
    "```\n",
    "et vérifiez que vous pouvez l'utiliser sur des données du problème."
   ]
  },
  {
   "cell_type": "code",
   "execution_count": 77,
   "id": "c3c4bfbd",
   "metadata": {
    "id": "c3c4bfbd"
   },
   "outputs": [],
   "source": [
    "def test_model(model, dataloader_test, device='cuda', loss=nn.NLLLoss()):\n",
    "    model.eval()\n",
    "    test_losses = []\n",
    "    acc = 0\n",
    "    test_loss = 0\n",
    "    for batch_x,batch_y in dataloader_test:\n",
    "        batch_x = batch_x.to(device)\n",
    "        batch_y = batch_y.to(device).long()\n",
    "\n",
    "        with torch.no_grad():\n",
    "            batch_y_predicted = model(batch_x)\n",
    "            l = loss(batch_y_predicted, batch_y)\n",
    "            test_loss += l.item()\n",
    "            acc += (batch_y_predicted.argmax(dim=1) == batch_y).sum().item()\n",
    "    test_losses.append(test_loss / len(dataloader_test))\n",
    "\n",
    "    print(\"Test loss : \", test_losses[-1])\n",
    "    print(\"Test accuracy : \", acc , \"/\", len(dataloader_test.dataset), \" (\", acc / len(dataloader_test.dataset) * 100, \"%)\")"
   ]
  },
  {
   "cell_type": "code",
   "execution_count": 35,
   "id": "e306db23",
   "metadata": {
    "colab": {
     "base_uri": "https://localhost:8080/"
    },
    "id": "e306db23",
    "outputId": "d4603574-87ed-481f-844c-1231dc412a19"
   },
   "outputs": [
    {
     "name": "stderr",
     "output_type": "stream",
     "text": [
      "<ipython-input-35-7a3e1f51c9f9>:2: FutureWarning: You are using `torch.load` with `weights_only=False` (the current default value), which uses the default pickle module implicitly. It is possible to construct malicious pickle data which will execute arbitrary code during unpickling (See https://github.com/pytorch/pytorch/blob/main/SECURITY.md#untrusted-models for more details). In a future release, the default value for `weights_only` will be flipped to `True`. This limits the functions that could be executed during unpickling. Arbitrary objects will no longer be allowed to be loaded via this mode unless they are explicitly allowlisted by the user via `torch.serialization.add_safe_globals`. We recommend you start setting `weights_only=True` for any use case where you don't have full control of the loaded file. Please open an issue on GitHub for any issues related to this experimental feature.\n",
      "  model.load_state_dict(torch.load(\"model1.pth\"))\n"
     ]
    },
    {
     "name": "stdout",
     "output_type": "stream",
     "text": [
      "Test loss :  1.7876538785398006\n",
      "Test accuracy :  4950 / 10000  ( 49.5 %)\n"
     ]
    }
   ],
   "source": [
    "model = DumbModel()\n",
    "model.load_state_dict(torch.load(\"model1.pth\"))\n",
    "model.to('cuda')\n",
    "test_model(model, dataloader_test, device='cuda')"
   ]
  },
  {
   "cell_type": "markdown",
   "id": "e164707e",
   "metadata": {
    "id": "e164707e"
   },
   "source": [
    "## Entraînement de réseaux de neurones\n",
    "\n",
    "Dans cette partie vous définissez une ou plusieurs architecture de réseaux de neurones profonds et vous les réglez sur les données d'entrainement.\n",
    "Vous pouvez notamment utiliser des réseaux à base de convolutions et/ou de couches réurrentes. Vous pouvez vous inspirer de ce qui a été dit en cours sur la reconnaissance vocale.\n",
    "\n",
    "Dans un deuxième temps (facultatif), si vous le souhaitez vous pouvez mettre en place des stratégies d'augmentation de données pour améliorer vos résultats. Pour mettre l'augmentation de données en pratique pouvez vous renseigner sur l'argument collate_fn du dataloader standard de Pytorch."
   ]
  },
  {
   "cell_type": "code",
   "execution_count": 36,
   "id": "a914bb87",
   "metadata": {
    "colab": {
     "base_uri": "https://localhost:8080/"
    },
    "id": "a914bb87",
    "outputId": "1c1dc8e3-42c8-4937-d50b-29fd5a17c548"
   },
   "outputs": [
    {
     "name": "stdout",
     "output_type": "stream",
     "text": [
      "49662\n"
     ]
    }
   ],
   "source": [
    "class Model2(nn.Module):\n",
    "    def __init__(self, N=6, C=2, T=2048):\n",
    "        super().__init__()\n",
    "        self.conv1 = nn.Sequential(\n",
    "            nn.Conv1d(in_channels=C, out_channels=8, kernel_size=3, stride=1, padding=1),\n",
    "            nn.BatchNorm1d(8),\n",
    "            nn.ReLU(),\n",
    "            nn.MaxPool1d(kernel_size=2)\n",
    "        )\n",
    "        self.conv2 = nn.Sequential(\n",
    "            nn.Conv1d(in_channels=8, out_channels=16, kernel_size=3, stride=1, padding=1),\n",
    "            nn.BatchNorm1d(16),\n",
    "            nn.ReLU(),\n",
    "            nn.MaxPool1d(kernel_size=2)\n",
    "        )\n",
    "        self.fc = nn.Linear(16*(T//4), N)\n",
    "\n",
    "    def forward(self, x):\n",
    "        x = self.conv1(x)\n",
    "        x = self.conv2(x)\n",
    "        x = x.view(x.size(0), -1)\n",
    "        x = self.fc(x)\n",
    "        return F.log_softmax(x, dim=-1)\n",
    "\n",
    "model = Model2()\n",
    "print(count_n_param(model))"
   ]
  },
  {
   "cell_type": "code",
   "execution_count": 37,
   "id": "c46810f1",
   "metadata": {
    "colab": {
     "base_uri": "https://localhost:8080/",
     "height": 711
    },
    "id": "c46810f1",
    "outputId": "560cc65a-24bf-4920-c045-0ba274393a74"
   },
   "outputs": [
    {
     "name": "stderr",
     "output_type": "stream",
     "text": [
      "Epoch 1/15: 100%|██████████| 1500/1500 [00:09<00:00, 154.10it/s, loss=0.965]\n",
      "Epoch 2/15: 100%|██████████| 1500/1500 [00:09<00:00, 164.08it/s, loss=0.799]\n",
      "Epoch 3/15: 100%|██████████| 1500/1500 [00:08<00:00, 171.05it/s, loss=1.08]\n",
      "Epoch 4/15: 100%|██████████| 1500/1500 [00:09<00:00, 155.92it/s, loss=0.405]\n",
      "Epoch 5/15: 100%|██████████| 1500/1500 [00:09<00:00, 160.71it/s, loss=0.635]\n",
      "Epoch 6/15: 100%|██████████| 1500/1500 [00:08<00:00, 170.26it/s, loss=0.612]\n",
      "Epoch 7/15: 100%|██████████| 1500/1500 [00:09<00:00, 153.93it/s, loss=0.232]\n",
      "Epoch 8/15: 100%|██████████| 1500/1500 [00:09<00:00, 156.61it/s, loss=0.261]\n",
      "Epoch 9/15: 100%|██████████| 1500/1500 [00:08<00:00, 170.96it/s, loss=0.433]\n",
      "Epoch 10/15: 100%|██████████| 1500/1500 [00:09<00:00, 159.01it/s, loss=0.374]\n",
      "Epoch 11/15: 100%|██████████| 1500/1500 [00:09<00:00, 152.44it/s, loss=0.299]\n",
      "Epoch 12/15: 100%|██████████| 1500/1500 [00:09<00:00, 160.83it/s, loss=0.171]\n",
      "Epoch 13/15: 100%|██████████| 1500/1500 [00:09<00:00, 165.38it/s, loss=0.399]\n",
      "Epoch 14/15: 100%|██████████| 1500/1500 [00:09<00:00, 153.96it/s, loss=0.282]\n",
      "Epoch 15/15: 100%|██████████| 1500/1500 [00:09<00:00, 159.90it/s, loss=0.0676]\n"
     ]
    },
    {
     "data": {
      "image/png": "[encoded data removed]",
      "text/plain": [
       "<Figure size 640x480 with 1 Axes>"
      ]
     },
     "metadata": {},
     "output_type": "display_data"
    }
   ],
   "source": [
    "training_model(model, dataloader_train, dataloader_valid, \"model2.pth\", device='cuda')"
   ]
  },
  {
   "cell_type": "code",
   "execution_count": 39,
   "id": "fa52f45f",
   "metadata": {
    "colab": {
     "base_uri": "https://localhost:8080/"
    },
    "id": "fa52f45f",
    "outputId": "7ecba5ee-2e5f-4e4a-af3c-50f948bcb14c"
   },
   "outputs": [
    {
     "name": "stderr",
     "output_type": "stream",
     "text": [
      "<ipython-input-39-8692edc0758c>:2: FutureWarning: You are using `torch.load` with `weights_only=False` (the current default value), which uses the default pickle module implicitly. It is possible to construct malicious pickle data which will execute arbitrary code during unpickling (See https://github.com/pytorch/pytorch/blob/main/SECURITY.md#untrusted-models for more details). In a future release, the default value for `weights_only` will be flipped to `True`. This limits the functions that could be executed during unpickling. Arbitrary objects will no longer be allowed to be loaded via this mode unless they are explicitly allowlisted by the user via `torch.serialization.add_safe_globals`. We recommend you start setting `weights_only=True` for any use case where you don't have full control of the loaded file. Please open an issue on GitHub for any issues related to this experimental feature.\n",
      "  model.load_state_dict(torch.load(\"model2.pth\"))\n"
     ]
    },
    {
     "name": "stdout",
     "output_type": "stream",
     "text": [
      "Test loss :  1.535172054941766\n",
      "Test accuracy :  6364 / 10000  ( 63.63999999999999 %)\n"
     ]
    }
   ],
   "source": [
    "model = Model2()\n",
    "model.load_state_dict(torch.load(\"model2.pth\"))\n",
    "model.to('cuda')\n",
    "test_model(model, dataloader_test, device='cuda')"
   ]
  },
  {
   "cell_type": "markdown",
   "id": "IB5Y-FDNWUcd",
   "metadata": {
    "id": "IB5Y-FDNWUcd"
   },
   "source": [
    "## Depthwise"
   ]
  },
  {
   "cell_type": "code",
   "execution_count": 95,
   "id": "4bf29bbe",
   "metadata": {
    "colab": {
     "base_uri": "https://localhost:8080/"
    },
    "id": "4bf29bbe",
    "outputId": "c65ac959-9bf9-4506-9f04-43be8a392ecb"
   },
   "outputs": [
    {
     "name": "stdout",
     "output_type": "stream",
     "text": [
      "196782\n"
     ]
    }
   ],
   "source": [
    "class Model3(nn.Module):\n",
    "    def __init__(self, N=6, C=2, T=2048):\n",
    "        super(Model3, self).__init__()\n",
    "\n",
    "        # Convolution depthwise separable\n",
    "        self.depthwise_conv1 = nn.Conv1d(C, C, kernel_size=3, stride=1, padding=1, groups=C)  # Depthwise\n",
    "        self.pointwise_conv1 = nn.Conv1d(C, 32, kernel_size=1)  # Pointwise\n",
    "\n",
    "        self.bn1 = nn.BatchNorm1d(32)\n",
    "        self.pool1 = nn.MaxPool1d(kernel_size=2)\n",
    "\n",
    "        # Calculer la dimension d'entrée de la couche fully connected\n",
    "        conv_output_size = 32 * (T // 2)\n",
    "\n",
    "        # Fully Connected Layers\n",
    "        self.fc1 = nn.Linear(conv_output_size, N)\n",
    "        self.dropout = nn.Dropout(0.5)\n",
    "\n",
    "    def forward(self, x):\n",
    "        # Convolution depthwise separable\n",
    "        x = F.relu(self.bn1(self.pointwise_conv1(self.depthwise_conv1(x))))\n",
    "        x = self.pool1(x)\n",
    "\n",
    "        # Flatten et Fully Connected Layers\n",
    "        x = x.view(x.size(0), -1)\n",
    "        x = F.relu(self.fc1(x))\n",
    "        x = self.dropout(x)\n",
    "        return x\n",
    "\n",
    "# Exemple d'initialisation\n",
    "model = Model3()\n",
    "print(count_n_param(model))"
   ]
  },
  {
   "cell_type": "code",
   "execution_count": 96,
   "id": "wJliMx8okwhY",
   "metadata": {
    "colab": {
     "base_uri": "https://localhost:8080/"
    },
    "id": "wJliMx8okwhY",
    "outputId": "3d2fd16e-28cf-49e0-c938-64761f147eab"
   },
   "outputs": [
    {
     "data": {
      "text/plain": [
       "Model3(\n",
       "  (depthwise_conv1): Conv1d(2, 2, kernel_size=(3,), stride=(1,), padding=(1,), groups=2)\n",
       "  (pointwise_conv1): Conv1d(2, 32, kernel_size=(1,), stride=(1,))\n",
       "  (bn1): BatchNorm1d(32, eps=1e-05, momentum=0.1, affine=True, track_running_stats=True)\n",
       "  (pool1): MaxPool1d(kernel_size=2, stride=2, padding=0, dilation=1, ceil_mode=False)\n",
       "  (fc1): Linear(in_features=32768, out_features=6, bias=True)\n",
       "  (dropout): Dropout(p=0.5, inplace=False)\n",
       ")"
      ]
     },
     "execution_count": 96,
     "metadata": {},
     "output_type": "execute_result"
    }
   ],
   "source": [
    "model"
   ]
  },
  {
   "cell_type": "code",
   "execution_count": 97,
   "id": "048d5fc7",
   "metadata": {
    "colab": {
     "base_uri": "https://localhost:8080/",
     "height": 711
    },
    "id": "048d5fc7",
    "outputId": "18b38abe-6d88-4e05-8484-687243b64356"
   },
   "outputs": [
    {
     "name": "stderr",
     "output_type": "stream",
     "text": [
      "Epoch 1/15: 100%|██████████| 1500/1500 [00:09<00:00, 161.18it/s, loss=1.79]\n",
      "Epoch 2/15: 100%|██████████| 1500/1500 [00:08<00:00, 168.63it/s, loss=1.79]\n",
      "Epoch 3/15: 100%|██████████| 1500/1500 [00:09<00:00, 157.65it/s, loss=1.79]\n",
      "Epoch 4/15: 100%|██████████| 1500/1500 [00:09<00:00, 155.76it/s, loss=1.79]\n",
      "Epoch 5/15: 100%|██████████| 1500/1500 [00:09<00:00, 159.71it/s, loss=1.79]\n",
      "Epoch 6/15: 100%|██████████| 1500/1500 [00:09<00:00, 161.38it/s, loss=1.79]\n",
      "Epoch 7/15: 100%|██████████| 1500/1500 [00:09<00:00, 153.12it/s, loss=1.79]\n",
      "Epoch 8/15: 100%|██████████| 1500/1500 [00:09<00:00, 156.55it/s, loss=1.79]\n",
      "Epoch 9/15: 100%|██████████| 1500/1500 [00:08<00:00, 167.28it/s, loss=1.79]\n",
      "Epoch 10/15: 100%|██████████| 1500/1500 [00:09<00:00, 156.81it/s, loss=1.79]\n",
      "Epoch 11/15: 100%|██████████| 1500/1500 [00:09<00:00, 156.11it/s, loss=1.79]\n",
      "Epoch 12/15: 100%|██████████| 1500/1500 [00:09<00:00, 165.71it/s, loss=1.79]\n",
      "Epoch 13/15: 100%|██████████| 1500/1500 [00:09<00:00, 156.25it/s, loss=1.79]\n",
      "Epoch 14/15: 100%|██████████| 1500/1500 [00:09<00:00, 155.12it/s, loss=1.79]\n",
      "Epoch 15/15: 100%|██████████| 1500/1500 [00:09<00:00, 164.91it/s, loss=1.79]\n"
     ]
    },
    {
     "data": {
      "image/png": "[encoded data removed]",
      "text/plain": [
       "<Figure size 640x480 with 1 Axes>"
      ]
     },
     "metadata": {},
     "output_type": "display_data"
    }
   ],
   "source": [
    "loss = nn.CrossEntropyLoss()\n",
    "optimizer = optim.Adam(model.parameters(), weight_decay=1e-3)\n",
    "training_model(model, dataloader_train, dataloader_valid, \"model3.pt\", device='cuda', loss=loss, optim=optimizer)"
   ]
  },
  {
   "cell_type": "code",
   "execution_count": 85,
   "id": "6dce9155",
   "metadata": {
    "colab": {
     "base_uri": "https://localhost:8080/"
    },
    "id": "6dce9155",
    "outputId": "29cd12a8-2f17-4e37-ddc3-171e03ef271d"
   },
   "outputs": [
    {
     "name": "stderr",
     "output_type": "stream",
     "text": [
      "<ipython-input-85-977eb1731a94>:1: FutureWarning: You are using `torch.load` with `weights_only=False` (the current default value), which uses the default pickle module implicitly. It is possible to construct malicious pickle data which will execute arbitrary code during unpickling (See https://github.com/pytorch/pytorch/blob/main/SECURITY.md#untrusted-models for more details). In a future release, the default value for `weights_only` will be flipped to `True`. This limits the functions that could be executed during unpickling. Arbitrary objects will no longer be allowed to be loaded via this mode unless they are explicitly allowlisted by the user via `torch.serialization.add_safe_globals`. We recommend you start setting `weights_only=True` for any use case where you don't have full control of the loaded file. Please open an issue on GitHub for any issues related to this experimental feature.\n",
      "  model =torch.load('model3.pt')\n"
     ]
    },
    {
     "name": "stdout",
     "output_type": "stream",
     "text": [
      "Test loss :  1.7917594909667969\n",
      "Test accuracy :  1697 / 10000  ( 16.97 %)\n"
     ]
    }
   ],
   "source": [
    "model =torch.load('model3.pt')\n",
    "test_model(model, dataloader_test, device='cuda', loss=loss)"
   ]
  },
  {
   "cell_type": "markdown",
   "id": "TJ1KV3wZcmS7",
   "metadata": {
    "id": "TJ1KV3wZcmS7"
   },
   "source": [
    "## CNN 2\n"
   ]
  },
  {
   "cell_type": "code",
   "execution_count": 89,
   "id": "-BSWUh7IIb57",
   "metadata": {
    "colab": {
     "base_uri": "https://localhost:8080/"
    },
    "id": "-BSWUh7IIb57",
    "outputId": "5baac321-fb46-46be-b39f-b657e0dfc507"
   },
   "outputs": [
    {
     "data": {
      "text/plain": [
       "452006"
      ]
     },
     "execution_count": 89,
     "metadata": {},
     "output_type": "execute_result"
    }
   ],
   "source": [
    "class CNN_RNNv1(torch.nn.Module):\n",
    "    def __init__(self, N=6, C=2, T=2048):\n",
    "        super().__init__()\n",
    "\n",
    "        self.conv1 = torch.nn.Sequential(torch.nn.Conv1d(in_channels=C, out_channels=32, kernel_size=5, stride=1, padding=2),\n",
    "                                         torch.nn.ReLU(),\n",
    "                                         torch.nn.MaxPool1d(kernel_size=2),\n",
    "                                         torch.nn.BatchNorm1d(32))\n",
    "\n",
    "        self.lstm = torch.nn.LSTM(input_size=32, hidden_size=64, num_layers=2, batch_first=True, dropout=0.5)\n",
    "\n",
    "        self.fc = torch.nn.Linear(64 * T//2, N)\n",
    "\n",
    "    def forward(self, x):\n",
    "        x = self.conv1(x)\n",
    "        x = x.permute(0, 2, 1)\n",
    "        x, _ = self.lstm(x)\n",
    "        x = x.contiguous().view(x.size(0), -1)\n",
    "        x = self.fc(x)\n",
    "        return x\n",
    "\n",
    "model = CNN_RNNv1()\n",
    "count_n_param(model)"
   ]
  },
  {
   "cell_type": "code",
   "execution_count": 91,
   "id": "BtAseF_VIsPm",
   "metadata": {
    "colab": {
     "base_uri": "https://localhost:8080/",
     "height": 628
    },
    "id": "BtAseF_VIsPm",
    "outputId": "930e9cc9-b34a-4a02-b7f2-17b687b82801"
   },
   "outputs": [
    {
     "name": "stderr",
     "output_type": "stream",
     "text": [
      "Epoch 1/10: 100%|██████████| 1500/1500 [00:14<00:00, 103.86it/s, loss=0.812]\n",
      "Epoch 2/10: 100%|██████████| 1500/1500 [00:14<00:00, 103.76it/s, loss=0.442]\n",
      "Epoch 3/10: 100%|██████████| 1500/1500 [00:14<00:00, 103.84it/s, loss=0.5]\n",
      "Epoch 4/10: 100%|██████████| 1500/1500 [00:14<00:00, 102.65it/s, loss=0.534]\n",
      "Epoch 5/10: 100%|██████████| 1500/1500 [00:14<00:00, 102.86it/s, loss=0.324]\n",
      "Epoch 6/10: 100%|██████████| 1500/1500 [00:14<00:00, 103.41it/s, loss=0.43]\n",
      "Epoch 7/10: 100%|██████████| 1500/1500 [00:14<00:00, 103.45it/s, loss=0.16]\n",
      "Epoch 8/10: 100%|██████████| 1500/1500 [00:14<00:00, 103.48it/s, loss=0.358]\n",
      "Epoch 9/10: 100%|██████████| 1500/1500 [00:14<00:00, 103.33it/s, loss=0.141]\n",
      "Epoch 10/10: 100%|██████████| 1500/1500 [00:14<00:00, 102.59it/s, loss=0.131]\n"
     ]
    },
    {
     "data": {
      "image/png": "[encoded data removed]",
      "text/plain": [
       "<Figure size 640x480 with 1 Axes>"
      ]
     },
     "metadata": {},
     "output_type": "display_data"
    }
   ],
   "source": [
    "loss = nn.CrossEntropyLoss()\n",
    "optimizer = optim.Adam(model.parameters(), weight_decay=1e-3)\n",
    "training_model(model, dataloader_train, dataloader_valid, \"model4.pt\", device='cuda', loss=loss, optim=optimizer, n_epoch=10)"
   ]
  },
  {
   "cell_type": "code",
   "execution_count": 93,
   "id": "U-VjM8iTKnr8",
   "metadata": {
    "colab": {
     "base_uri": "https://localhost:8080/"
    },
    "id": "U-VjM8iTKnr8",
    "outputId": "bf523d79-17ca-4ff5-8b4d-83f6e4107672"
   },
   "outputs": [
    {
     "name": "stderr",
     "output_type": "stream",
     "text": [
      "<ipython-input-93-d7272d203b21>:1: FutureWarning: You are using `torch.load` with `weights_only=False` (the current default value), which uses the default pickle module implicitly. It is possible to construct malicious pickle data which will execute arbitrary code during unpickling (See https://github.com/pytorch/pytorch/blob/main/SECURITY.md#untrusted-models for more details). In a future release, the default value for `weights_only` will be flipped to `True`. This limits the functions that could be executed during unpickling. Arbitrary objects will no longer be allowed to be loaded via this mode unless they are explicitly allowlisted by the user via `torch.serialization.add_safe_globals`. We recommend you start setting `weights_only=True` for any use case where you don't have full control of the loaded file. Please open an issue on GitHub for any issues related to this experimental feature.\n",
      "  model = torch.load('model4.pt')\n"
     ]
    },
    {
     "name": "stdout",
     "output_type": "stream",
     "text": [
      "Test loss :  0.43079837921605213\n",
      "Test accuracy :  8311 / 10000  ( 83.11 %)\n"
     ]
    }
   ],
   "source": [
    "model = torch.load('model4.pt')\n",
    "test_model(model, dataloader_test, device='cuda', loss=loss)"
   ]
  },
  {
   "cell_type": "markdown",
   "id": "e358269c",
   "metadata": {},
   "source": [
    "## LSTM BiDir"
   ]
  },
  {
   "cell_type": "code",
   "execution_count": 13,
   "id": "zthlS88sggP3",
   "metadata": {
    "colab": {
     "base_uri": "https://localhost:8080/"
    },
    "id": "zthlS88sggP3",
    "outputId": "35143b08-6e4d-4725-8af5-419f64ac8d61"
   },
   "outputs": [
    {
     "data": {
      "text/plain": [
       "936358"
      ]
     },
     "execution_count": 13,
     "metadata": {},
     "output_type": "execute_result"
    }
   ],
   "source": [
    "class CNN_BiDir(torch.nn.Module):\n",
    "    def __init__(self, N=6, C=2, T=2048):\n",
    "        super().__init__()\n",
    "\n",
    "        self.conv1 = torch.nn.Sequential(\n",
    "            torch.nn.Conv1d(in_channels=C, out_channels=32, kernel_size=5, stride=1, padding=2),\n",
    "            torch.nn.ReLU(),\n",
    "            torch.nn.MaxPool1d(kernel_size=2),\n",
    "            torch.nn.BatchNorm1d(32)\n",
    "        )\n",
    "\n",
    "        # LSTM bidirectionnel\n",
    "        self.lstm = torch.nn.LSTM(input_size=32, hidden_size=64, num_layers=2, batch_first=True, dropout=0.5, bidirectional=True)\n",
    "\n",
    "        # Taille d'entrée de la couche fully connected ajustée pour le LSTM bidirectionnel\n",
    "        self.fc = torch.nn.Linear(128 * (T // 2), N)  # 128 car LSTM bidirectionnel (64 * 2)\n",
    "\n",
    "    def forward(self, x):\n",
    "        # Convolution\n",
    "        x = self.conv1(x)\n",
    "\n",
    "        # Préparation pour le LSTM (permutation des dimensions)\n",
    "        x = x.permute(0, 2, 1)\n",
    "\n",
    "        # LSTM bidirectionnel\n",
    "        x, _ = self.lstm(x)\n",
    "\n",
    "        # Flatten la sortie\n",
    "        x = x.contiguous().view(x.size(0), -1)\n",
    "\n",
    "        # Couche fully connected\n",
    "        x = self.fc(x)\n",
    "        return x\n",
    "\n",
    "model = CNN_BiDir()\n",
    "count_n_param(model)"
   ]
  },
  {
   "cell_type": "code",
   "execution_count": null,
   "id": "BJhtOS2Ep-VN",
   "metadata": {
    "colab": {
     "base_uri": "https://localhost:8080/"
    },
    "id": "BJhtOS2Ep-VN",
    "outputId": "5aaf3601-dc5c-439f-ce11-7eac4ba84ca1"
   },
   "outputs": [
    {
     "name": "stderr",
     "output_type": "stream",
     "text": [
      "Epoch 1/10:  26%|██▋       | 395/1500 [00:46<02:10,  8.48it/s, loss=1.19]\n"
     ]
    },
    {
     "ename": "KeyboardInterrupt",
     "evalue": "",
     "output_type": "error",
     "traceback": [
      "\u001b[0;31m---------------------------------------------------------------------------\u001b[0m",
      "\u001b[0;31mKeyboardInterrupt\u001b[0m                         Traceback (most recent call last)",
      "Cell \u001b[0;32mIn[15], line 3\u001b[0m\n\u001b[1;32m      1\u001b[0m loss \u001b[38;5;241m=\u001b[39m nn\u001b[38;5;241m.\u001b[39mCrossEntropyLoss()\n\u001b[1;32m      2\u001b[0m optimizer \u001b[38;5;241m=\u001b[39m optim\u001b[38;5;241m.\u001b[39mAdam(model\u001b[38;5;241m.\u001b[39mparameters(), weight_decay\u001b[38;5;241m=\u001b[39m\u001b[38;5;241m1e-3\u001b[39m)\n\u001b[0;32m----> 3\u001b[0m training_model(model, dataloader_train, dataloader_valid, \u001b[38;5;124m\"\u001b[39m\u001b[38;5;124mmodel5.pt\u001b[39m\u001b[38;5;124m\"\u001b[39m, device\u001b[38;5;241m=\u001b[39m\u001b[38;5;124m'\u001b[39m\u001b[38;5;124mmps\u001b[39m\u001b[38;5;124m'\u001b[39m, loss\u001b[38;5;241m=\u001b[39mloss, optim\u001b[38;5;241m=\u001b[39moptimizer, n_epoch\u001b[38;5;241m=\u001b[39m\u001b[38;5;241m10\u001b[39m)\n",
      "Cell \u001b[0;32mIn[12], line 28\u001b[0m, in \u001b[0;36mtraining_model\u001b[0;34m(model, dataloader_train, dataloader_valid, save_path, n_epoch, device, loss, optim)\u001b[0m\n\u001b[1;32m     25\u001b[0m         l\u001b[38;5;241m.\u001b[39mbackward()\n\u001b[1;32m     27\u001b[0m         optimizer\u001b[38;5;241m.\u001b[39mstep()\n\u001b[0;32m---> 28\u001b[0m         epoch_loss \u001b[38;5;241m+\u001b[39m\u001b[38;5;241m=\u001b[39m l\u001b[38;5;241m.\u001b[39mitem()\n\u001b[1;32m     30\u001b[0m         batch_bar\u001b[38;5;241m.\u001b[39mset_postfix(loss\u001b[38;5;241m=\u001b[39ml\u001b[38;5;241m.\u001b[39mitem())\n\u001b[1;32m     32\u001b[0m train_losses\u001b[38;5;241m.\u001b[39mappend(epoch_loss \u001b[38;5;241m/\u001b[39m \u001b[38;5;28mlen\u001b[39m(dataloader_train))\n",
      "\u001b[0;31mKeyboardInterrupt\u001b[0m: "
     ]
    }
   ],
   "source": [
    "loss = nn.CrossEntropyLoss()\n",
    "optimizer = optim.Adam(model.parameters(), weight_decay=1e-3)\n",
    "training_model(model, dataloader_train, dataloader_valid, \"model5.pt\", device='cuda', loss=loss, optim=optimizer, n_epoch=10)"
   ]
  },
  {
   "cell_type": "code",
   "execution_count": null,
   "id": "xZ9J71XTqFhO",
   "metadata": {
    "id": "xZ9J71XTqFhO"
   },
   "outputs": [],
   "source": [
    "model = torch.load('model5.pt')\n",
    "test_model(model, dataloader_test, device='cuda', loss=loss)"
   ]
  },
  {
   "cell_type": "markdown",
   "id": "878c3943",
   "metadata": {
    "id": "878c3943"
   },
   "source": [
    "## Synthèse de résultats\n",
    "\n",
    "Une fois que votre ou vos réseaux sont entrainez vous comparez leurs performances selon les métriques définies en introduction sur l'ensemble de test sans oublier de mesurer également la complexité de chaque approche en termes de nombre de paramètres. Si vous avez testé des approches qui vous semblent avoir échoué vous pouvez rédiger un petit paragraphe pour expliquer votre analyse de cet échec."
   ]
  },
  {
   "cell_type": "code",
   "execution_count": null,
   "id": "5dbac3d1",
   "metadata": {
    "id": "5dbac3d1"
   },
   "outputs": [],
   "source": []
  },
  {
   "cell_type": "code",
   "execution_count": null,
   "id": "16dda3c2",
   "metadata": {
    "id": "16dda3c2"
   },
   "outputs": [],
   "source": []
  }
 ],
 "metadata": {
  "accelerator": "GPU",
  "colab": {
   "gpuType": "T4",
   "provenance": []
  },
  "kernelspec": {
   "display_name": "pytorch-env",
   "language": "python",
   "name": "python3"
  },
  "language_info": {
   "codemirror_mode": {
    "name": "ipython",
    "version": 3
   },
   "file_extension": ".py",
   "mimetype": "text/x-python",
   "name": "python",
   "nbconvert_exporter": "python",
   "pygments_lexer": "ipython3",
   "version": "3.11.9"
  }
 },
 "nbformat": 4,
 "nbformat_minor": 5
}
